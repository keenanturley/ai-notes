{
 "cells": [
  {
   "cell_type": "markdown",
   "metadata": {},
   "source": [
    "# Chapter 4: Search in Complex Environments\n",
    "## 4.2: Local Search in Continuous Spaces\n",
    "Resources:\n",
    "* [3Blue1Brown -  From Newton’s method to Newton’s fractal (which Newton knew nothing about)](https://www.youtube.com/watch?v=-RdOwhmqP5s)\n",
    "* [Khan Academy - The Hessian matrix | Multivariable calculus](https://www.youtube.com/watch?v=LbBcuZukCAw)"
   ]
  }
 ],
 "metadata": {
  "language_info": {
   "name": "python"
  }
 },
 "nbformat": 4,
 "nbformat_minor": 2
}
