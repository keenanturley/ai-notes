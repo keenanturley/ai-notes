{
 "cells": [
  {
   "cell_type": "markdown",
   "metadata": {},
   "source": [
    "# Set Theory\n",
    "Where $X$ and $Y$ are sets, $f$ is a function where $X$ is the domain and $Y$ is the codomain.\n",
    "\n",
    "The following are classes or properties of functions:"
   ]
  },
  {
   "cell_type": "markdown",
   "metadata": {
    "vscode": {
     "languageId": "latex"
    }
   },
   "source": [
    "## Injective (one-to-one)\n",
    "1. There is a constraint on each element of the codomain $Y$ that it must be associated to at most 1 element in the domain $X$\n",
    "1. One-to-one means that for each element in the domain $X$ it refers to one and only one element of $Y$\n",
    "\n",
    "Symbolic definition:\n",
    "$$\\forall{a,b} \\in X,\\;\\; f(a) = f(b) \\implies{a = b}$$\n",
    "\n",
    "Another way of thinking about this is that $f(a)$ and $f(b)$ represent two edges from arbitrary elements $a$ and $b$ in $X$ that point to the same element in $Y$. The implication collapses the two edges into one by resolving $a$ and $b$ to the same element in $X$. \n",
    "\n",
    "this is logically equivalent to the contrapositive:\n",
    "$$\\forall{a,b} \\in X,\\;\\; a \\not= b \\implies f(a) \\not= f(b)$$"
   ]
  },
  {
   "cell_type": "markdown",
   "metadata": {},
   "source": [
    "## Surjective (onto)\n",
    "1. There is a constraint on each element of the codomain $Y$ that it must be associated to at least 1 element in the domain $X$.\n",
    "1. You could say that the codomain is saturated, or fully mapped from the domain.\n",
    "1. The function's image (set of all output values) is equal to its codomain $Y$\n",
    "\n",
    "Symbolic definition: \n",
    "\n",
    "If $f: X \\to Y$, then $f$ is said to be surjective if \n",
    "$$\\forall{b} \\in Y, \\exists{a} \\in X, f(a) = b$$"
   ]
  },
  {
   "cell_type": "markdown",
   "metadata": {},
   "source": [
    "## Bijective\n",
    "1. **Bijective** = **Injective** and **Surjective**\n",
    "1. Each element of the codomain $Y$ is associated with exactly one element of the domain $X$\n",
    "\n",
    "My argument for **bijectivity**:\n",
    "1. The definition of a function requires that no element of X be paired with more than one element of Y\n",
    "2. The definition of domain requires each element within it to map to at least one element in the codomain.\n",
    "3. The definition of injective requires each element in the codomain to map to at most one element in the domain\n",
    "4. The definition of surjective requires each element in the codomain to map to at least one element in the domain\n",
    "5. 1 and 2 imply that each element in the domain maps to a unique element in the codomain. In other words, no two elements of the domain can map to the same element in the codomain.\n",
    "6. 2 and 3 imply that each element in the codomain maps to one and only one element in the domain. \n",
    "7. 5 is equivalent to the definition of **bijectivity**.\n",
    "\n",
    "Symbolically:\n",
    "\n",
    "1. Function definition: $\\forall a \\in X, \\exists! b \\in Y, f(a) = b$ \n",
    "2. Domain definition: $\\forall a \\in X, \\exists b\\in Y: f(a) = b$\n",
    "3. Injectivity: $\\forall a, b \\in X, f(a) = f(b) \\implies a = b$\n",
    "4. Surjectivity: $\\forall b \\in Y, \\exists a \\in X: f(a) = b$\n",
    "5. $\\forall b \\in Y, \\exists! a \\in X: f(a) = b$ and $\\forall a \\in X, \\exists! b \\in Y: f(a) = b$"
   ]
  }
 ],
 "metadata": {
  "kernelspec": {
   "display_name": "Python 3",
   "language": "python",
   "name": "python3"
  },
  "language_info": {
   "codemirror_mode": {
    "name": "ipython",
    "version": 3
   },
   "file_extension": ".py",
   "mimetype": "text/x-python",
   "name": "python",
   "nbconvert_exporter": "python",
   "pygments_lexer": "ipython3",
   "version": "3.12.2"
  }
 },
 "nbformat": 4,
 "nbformat_minor": 2
}
